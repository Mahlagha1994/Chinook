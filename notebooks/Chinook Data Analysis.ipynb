{
 "cells": [
  {
   "cell_type": "markdown",
   "metadata": {},
   "source": [
    "# Chinook Data Analysis"
   ]
  },
  {
   "cell_type": "markdown",
   "metadata": {},
   "source": [
    "### 1- Connection To MySQL and Creating Tables"
   ]
  },
  {
   "cell_type": "markdown",
   "metadata": {},
   "source": [
    "#### Step 1: Importing Necessary Libraries"
   ]
  },
  {
   "cell_type": "code",
   "execution_count": 1,
   "metadata": {},
   "outputs": [],
   "source": [
    "import pandas as pd\n",
    "import json\n",
    "import mysql.connector"
   ]
  },
  {
   "cell_type": "markdown",
   "metadata": {},
   "source": [
    "#### Step 2: Read Json File Containing Config"
   ]
  },
  {
   "cell_type": "code",
   "execution_count": 2,
   "metadata": {},
   "outputs": [],
   "source": [
    "with open('/Users/mahlagha/Desktop/Works in Progress/Data Science/Daneshkar/5- Data Analysis/Mentor/db_config.json', 'r') as config_file:\n",
    "    db_config = json.load(config_file)"
   ]
  },
  {
   "cell_type": "markdown",
   "metadata": {},
   "source": [
    "#### Step 3: Connecting to MySQL Using SQLAlchemy library"
   ]
  },
  {
   "cell_type": "code",
   "execution_count": 3,
   "metadata": {},
   "outputs": [],
   "source": [
    "from sqlalchemy import create_engine\n",
    "\n",
    "# Extract the connection details from the config\n",
    "username = db_config['user']\n",
    "password = db_config['password']\n",
    "host = db_config['host']\n",
    "database = db_config['database']\n",
    "\n",
    "# Create the connection string\n",
    "connection_string = f'mysql+mysqlconnector://{username}:{password}@{host}/{database}'\n",
    "\n",
    "# Create an SQLAlchemy engine\n",
    "engine = create_engine(connection_string)"
   ]
  },
  {
   "cell_type": "markdown",
   "metadata": {},
   "source": [
    "#### Step 4: Creating Dataframes"
   ]
  },
  {
   "cell_type": "code",
   "execution_count": 4,
   "metadata": {},
   "outputs": [],
   "source": [
    "Album = pd.read_sql('Album', con=engine)\n",
    "Artist = pd.read_sql('Artist', con=engine)\n",
    "Customer = pd.read_sql('Customer', con=engine)\n",
    "Employee = pd.read_sql('Employee', con=engine)\n",
    "Genre = pd.read_sql('Genre', con=engine)\n",
    "Invoice = pd.read_sql('Invoice', con=engine)\n",
    "InvoiceLine = pd.read_sql('InvoiceLine', con=engine)\n",
    "MediaType = pd.read_sql('MediaType', con=engine)\n",
    "Playlist = pd.read_sql('Playlist', con=engine)\n",
    "PlaylistTrack = pd.read_sql('PlaylistTrack', con=engine)\n",
    "Track = pd.read_sql('Track', con=engine)"
   ]
  },
  {
   "cell_type": "markdown",
   "metadata": {},
   "source": [
    "#### Step 5: Save csv files"
   ]
  },
  {
   "cell_type": "code",
   "execution_count": 8,
   "metadata": {},
   "outputs": [],
   "source": [
    "Album.to_csv('/Users/mahlagha/Chinook/data/processed/Album.csv', index=False)\n",
    "Artist.to_csv('/Users/mahlagha/Chinook/data/processed/Artist.csv', index=False)\n",
    "Customer.to_csv('/Users/mahlagha/Chinook/data/processed/Customer.csv', index=False)\n",
    "Employee.to_csv('/Users/mahlagha/Chinook/data/processed/Employee.csv', index=False)\n",
    "Genre.to_csv('/Users/mahlagha/Chinook/data/processed/Genre.csv', index=False)\n",
    "Invoice.to_csv('/Users/mahlagha/Chinook/data/processed/Invoice.csv', index=False)\n",
    "InvoiceLine.to_csv('/Users/mahlagha/Chinook/data/processed/InvoiceLine.csv', index=False)\n",
    "MediaType.to_csv('/Users/mahlagha/Chinook/data/processed/MediaType.csv', index=False)\n",
    "Playlist.to_csv('/Users/mahlagha/Chinook/data/processed/Playlist.csv', index=False)\n",
    "PlaylistTrack.to_csv('/Users/mahlagha/Chinook/data/processed/PlaylistTrack.csv', index=False)\n",
    "Track.to_csv('/Users/mahlagha/Chinook/data/processed/Track.csv', index=False)"
   ]
  },
  {
   "cell_type": "markdown",
   "metadata": {},
   "source": [
    "## Second"
   ]
  }
 ],
 "metadata": {
  "kernelspec": {
   "display_name": "Python 3",
   "language": "python",
   "name": "python3"
  },
  "language_info": {
   "codemirror_mode": {
    "name": "ipython",
    "version": 3
   },
   "file_extension": ".py",
   "mimetype": "text/x-python",
   "name": "python",
   "nbconvert_exporter": "python",
   "pygments_lexer": "ipython3",
   "version": "3.12.4"
  }
 },
 "nbformat": 4,
 "nbformat_minor": 2
}
